{
 "cells": [
  {
   "cell_type": "code",
   "execution_count": 7,
   "metadata": {},
   "outputs": [],
   "source": [
    "from langchain_google_genai import ChatGoogleGenerativeAI"
   ]
  },
  {
   "cell_type": "code",
   "execution_count": 26,
   "metadata": {},
   "outputs": [],
   "source": [
    "import os\n",
    "\n",
    "os.environ[\"GOOGLE_API_KEY\"] = \"REMOVED\"\n",
    "llm = ChatGoogleGenerativeAI(model = \"gemini-1.5-flash\",temperature=0)"
   ]
  },
  {
   "cell_type": "code",
   "execution_count": 27,
   "metadata": {},
   "outputs": [],
   "source": [
    "from crewai import Agent, Task, Crew"
   ]
  },
  {
   "cell_type": "code",
   "execution_count": 34,
   "metadata": {},
   "outputs": [],
   "source": [
    "asiging_doctor = Agent(\n",
    "    role = \"To assign a doctor to the patient based on the symptoms\",\n",
    "    goal = \"To assign a doctor to the patient based on the symptoms\",\n",
    "    backstory = \"You have general information about a patient and also the visual symptoms of the patient. You need to assign a doctor to the patient based on the symptoms.\",\n",
    "    llm = llm,\n",
    "    allow_delegation  = False,\n",
    "    verbose = True\n",
    ")\n",
    "\n",
    "assign_doctor_task = Task(\n",
    "    description = (\n",
    "        \"1. You have a list of doctors and their specializations which is {doctor_list}.\\n\"\n",
    "        \"2. You have the general information about patient {general_information} .\\n\"\n",
    "        \"3. You also have the visual symptoms of the patient which is {visual_symptoms}.\\n\"\n",
    "        \"4. You need to assign a doctor to the patient based on the symptoms.\"\n",
    "        \"5. Only provide the type of the doctor assigned to the patient in plain text with no additional text.\"\n",
    "    ),\n",
    "    expected_output = \"The type of the doctor assigned to the patient\",\n",
    "    agent = asiging_doctor\n",
    ")"
   ]
  },
  {
   "cell_type": "code",
   "execution_count": 35,
   "metadata": {},
   "outputs": [],
   "source": [
    "vision_information = \"\"\"\n",
    "Skin Color and Condition:\n",
    "\n",
    "Pale Skin: The patient's skin appears slightly pale, which could indicate anemia, shock, or lack of oxygen.\n",
    "Yellowish Skin (Jaundice): No signs of yellowing are observed in the skin.\n",
    "Blue Skin or Lips (Cyanosis): No blue discoloration is visible on the skin or lips.\n",
    "Redness: There is significant redness on the cheeks and nose, which may suggest a condition like rosacea.\n",
    "Rashes or Hives: No rashes or hives are visible on the face.\n",
    "Pimples, Pustules, or Pox: No pimples, pustules, or pox are observed.\n",
    "Eyes:\n",
    "\n",
    "Dark Circles: There are dark circles under the eyes, suggesting sleep deprivation, stress, or chronic fatigue.\n",
    "Yellowing (Scleral Icterus): No yellowing is observed in the sclera.\n",
    "Red or Bloodshot Eyes: The eyes appear slightly red or bloodshot, which could indicate an infection, allergy, or irritation.\n",
    "Drooping Eyelids (Ptosis): The eyelids appear slightly droopy, which may be due to fatigue or neurological issues.\n",
    "Mouth and Lips:\n",
    "\n",
    "Blue Lips (Cyanosis): The lips appear slightly blue, indicating poor oxygenation.\n",
    "Swollen Lips: There is no swelling observed on the lips.\n",
    "Cracked or Dry Lips: The lips appear dry, which may indicate dehydration or vitamin deficiencies.\n",
    "Neck region:\n",
    "\n",
    "Swollen Glands: No swollen glands are visible in the neck region.\n",
    "Visible Thyroid Enlargement (Goiter): The thyroid gland is not visibly enlarged.\n",
    "\"\"\""
   ]
  },
  {
   "cell_type": "code",
   "execution_count": 36,
   "metadata": {},
   "outputs": [],
   "source": [
    "general_information = \"Patient Name: Sneh Age: 20 Symptoms: - High fever (103 degrees Fahrenheit) - Cold - Cough Pain Assessment: None provided Medication: Paracetamol, effective for a few hours Symptom Duration: 2 days Additional Information: None\""
   ]
  },
  {
   "cell_type": "code",
   "execution_count": 37,
   "metadata": {},
   "outputs": [],
   "source": [
    "doctor_list = \"\"\"\n",
    "1. MBBS - General Physician\n",
    "2. MD - Dermatologist\n",
    "3. ENT Specialist\n",
    "4. Physiotherapist\n",
    "\"\"\""
   ]
  },
  {
   "cell_type": "code",
   "execution_count": 38,
   "metadata": {},
   "outputs": [],
   "source": [
    "inputs = {\n",
    "    \"doctor_list\": doctor_list,\n",
    "    \"general_information\": general_information,\n",
    "    \"visual_symptoms\": vision_information\n",
    "    }"
   ]
  },
  {
   "cell_type": "markdown",
   "metadata": {},
   "source": []
  },
  {
   "cell_type": "code",
   "execution_count": 39,
   "metadata": {},
   "outputs": [
    {
     "name": "stderr",
     "output_type": "stream",
     "text": [
      "2024-06-29 10:08:30,859 - 9352 - __init__.py-__init__:518 - WARNING: Overriding of current TracerProvider is not allowed\n"
     ]
    },
    {
     "name": "stdout",
     "output_type": "stream",
     "text": [
      "\u001b[1m\u001b[95m [2024-06-29 10:08:30][DEBUG]: == Working Agent: To assign a doctor to the patient based on the symptoms\u001b[00m\n",
      "\u001b[1m\u001b[95m [2024-06-29 10:08:30][INFO]: == Starting Task: 1. You have a list of doctors and their specializations which is \n",
      "1. MBBS - General Physician\n",
      "2. MD - Dermatologist\n",
      "3. ENT Specialist\n",
      "4. Physiotherapist\n",
      ".\n",
      "2. You have the general information about patient Patient Name: Sneh Age: 20 Symptoms: - High fever (103 degrees Fahrenheit) - Cold - Cough Pain Assessment: None provided Medication: Paracetamol, effective for a few hours Symptom Duration: 2 days Additional Information: None .\n",
      "3. You also have the visual symptoms of the patient which is \n",
      "Skin Color and Condition:\n",
      "\n",
      "Pale Skin: The patient's skin appears slightly pale, which could indicate anemia, shock, or lack of oxygen.\n",
      "Yellowish Skin (Jaundice): No signs of yellowing are observed in the skin.\n",
      "Blue Skin or Lips (Cyanosis): No blue discoloration is visible on the skin or lips.\n",
      "Redness: There is significant redness on the cheeks and nose, which may suggest a condition like rosacea.\n",
      "Rashes or Hives: No rashes or hives are visible on the face.\n",
      "Pimples, Pustules, or Pox: No pimples, pustules, or pox are observed.\n",
      "Eyes:\n",
      "\n",
      "Dark Circles: There are dark circles under the eyes, suggesting sleep deprivation, stress, or chronic fatigue.\n",
      "Yellowing (Scleral Icterus): No yellowing is observed in the sclera.\n",
      "Red or Bloodshot Eyes: The eyes appear slightly red or bloodshot, which could indicate an infection, allergy, or irritation.\n",
      "Drooping Eyelids (Ptosis): The eyelids appear slightly droopy, which may be due to fatigue or neurological issues.\n",
      "Mouth and Lips:\n",
      "\n",
      "Blue Lips (Cyanosis): The lips appear slightly blue, indicating poor oxygenation.\n",
      "Swollen Lips: There is no swelling observed on the lips.\n",
      "Cracked or Dry Lips: The lips appear dry, which may indicate dehydration or vitamin deficiencies.\n",
      "Neck region:\n",
      "\n",
      "Swollen Glands: No swollen glands are visible in the neck region.\n",
      "Visible Thyroid Enlargement (Goiter): The thyroid gland is not visibly enlarged.\n",
      ".\n",
      "4. You need to assign a doctor to the patient based on the symptoms.5. Only provide the type of the doctor assigned to the patient in plain text with no additional text.\u001b[00m\n",
      "\n",
      "\n",
      "\u001b[1m> Entering new CrewAgentExecutor chain...\u001b[0m\n",
      "\u001b[32;1m\u001b[1;3mThought: Based on the symptoms, the patient is experiencing a combination of fever, cold, cough, and redness on the cheeks and nose. These symptoms suggest a possible respiratory infection. \n",
      "\n",
      "Final Answer: MBBS - General Physician \n",
      "\u001b[0m\n",
      "\n",
      "\u001b[1m> Finished chain.\u001b[0m\n",
      "\u001b[1m\u001b[92m [2024-06-29 10:08:32][DEBUG]: == [To assign a doctor to the patient based on the symptoms] Task output: MBBS - General Physician\n",
      "\n",
      "\u001b[00m\n"
     ]
    }
   ],
   "source": [
    "crew  = Crew(agents=[asiging_doctor], tasks=[assign_doctor_task], inputs=inputs,verbose =2)\n",
    "result = crew.kickoff(inputs)"
   ]
  },
  {
   "cell_type": "code",
   "execution_count": 40,
   "metadata": {},
   "outputs": [
    {
     "name": "stdout",
     "output_type": "stream",
     "text": [
      "MBBS - General Physician\n"
     ]
    }
   ],
   "source": [
    "print(result)"
   ]
  },
  {
   "cell_type": "code",
   "execution_count": null,
   "metadata": {},
   "outputs": [],
   "source": []
  }
 ],
 "metadata": {
  "kernelspec": {
   "display_name": "Python 3",
   "language": "python",
   "name": "python3"
  },
  "language_info": {
   "codemirror_mode": {
    "name": "ipython",
    "version": 3
   },
   "file_extension": ".py",
   "mimetype": "text/x-python",
   "name": "python",
   "nbconvert_exporter": "python",
   "pygments_lexer": "ipython3",
   "version": "3.12.3"
  }
 },
 "nbformat": 4,
 "nbformat_minor": 2
}
