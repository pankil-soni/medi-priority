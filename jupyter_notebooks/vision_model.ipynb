{
 "cells": [
  {
   "cell_type": "code",
   "execution_count": 2,
   "metadata": {},
   "outputs": [
    {
     "name": "stderr",
     "output_type": "stream",
     "text": [
      "c:\\Python312\\Lib\\site-packages\\tqdm\\auto.py:21: TqdmWarning: IProgress not found. Please update jupyter and ipywidgets. See https://ipywidgets.readthedocs.io/en/stable/user_install.html\n",
      "  from .autonotebook import tqdm as notebook_tqdm\n"
     ]
    }
   ],
   "source": [
    "from langchain_google_genai import ChatGoogleGenerativeAI"
   ]
  },
  {
   "cell_type": "code",
   "execution_count": 3,
   "metadata": {},
   "outputs": [],
   "source": [
    "import os\n",
    "\n",
    "os.environ[\"GOOGLE_API_KEY\"] = \"\""
   ]
  },
  {
   "cell_type": "code",
   "execution_count": 6,
   "metadata": {},
   "outputs": [
    {
     "name": "stdout",
     "output_type": "stream",
     "text": [
      "content=\" **Skin Color and Condition:**\\n1. Pale Skin: The patient's skin appears slightly pale, which could indicate anemia, shock, or lack of oxygen.\\n2. Yellowish Skin (Jaundice): No signs of yellowing are observed in the skin.\\n3. Blue Skin or Lips (Cyanosis): No blue discoloration is visible on the skin or lips.\\n4. Redness: There is significant redness on the cheeks and nose, which may suggest a condition like rosacea.\\n5. Rashes or Hives: No rashes or hives are visible on the face.\\n6. Pimples, Pustules, or Pox: No pimples, pustules, or pox are observed.\\n\\n**Eyes:**\\n1. Dark Circles: There are dark circles under the eyes, suggesting sleep deprivation, stress, or chronic fatigue.\\n2. Yellowing (Scleral Icterus): No yellowing is observed in the sclera.\\n3. Red or Bloodshot Eyes: The eyes appear slightly red or bloodshot, which could indicate an infection, allergy, or irritation.\\n4. Drooping Eyelids (Ptosis): The eyelids appear slightly droopy, which may be due to fatigue or neurological issues.\\n\\n**Mouth and Lips:**\\n1. Blue Lips (Cyanosis): The lips appear slightly blue, indicating poor oxygenation.\\n2. Swollen Lips: There is no swelling observed on the lips.\\n3. Cracked or Dry Lips: The lips appear dry, which may indicate dehydration or vitamin deficiencies.\\n\\n**Neck region:**\\n1. Swollen Glands: No swollen glands are visible in the neck region.\\n2. Visible Thyroid Enlargement (Goiter): The thyroid gland is not visibly enlarged.\" response_metadata={'prompt_feedback': {'block_reason': 0, 'safety_ratings': []}, 'finish_reason': 'STOP', 'safety_ratings': [{'category': 'HARM_CATEGORY_SEXUALLY_EXPLICIT', 'probability': 'NEGLIGIBLE', 'blocked': False}, {'category': 'HARM_CATEGORY_HATE_SPEECH', 'probability': 'NEGLIGIBLE', 'blocked': False}, {'category': 'HARM_CATEGORY_HARASSMENT', 'probability': 'NEGLIGIBLE', 'blocked': False}, {'category': 'HARM_CATEGORY_DANGEROUS_CONTENT', 'probability': 'NEGLIGIBLE', 'blocked': False}]} id='run-eab0316b-5936-47fa-bf62-cc9b07be693f-0' usage_metadata={'input_tokens': 690, 'output_tokens': 359, 'total_tokens': 1049}\n"
     ]
    }
   ],
   "source": [
    "llm = ChatGoogleGenerativeAI(model = \"gemini-pro\")\n",
    "from langchain_core.messages import HumanMessage\n",
    "from langchain_google_genai import ChatGoogleGenerativeAI\n",
    "\n",
    "# Initialize the LLM model\n",
    "llm = ChatGoogleGenerativeAI(model=\"gemini-pro-vision\")\n",
    "\n",
    "# Define the image URL\n",
    "file_path = \"img1.jpg\"  # Replace with the actual image url or path\n",
    "\n",
    "# Create the message with detailed instructions\n",
    "message = HumanMessage(\n",
    "    content=[\n",
    "        {\n",
    "            \"type\": \"text\",\n",
    "            \"text\": (\n",
    "                \"Assess the following health indicators based on the visual input from the provided image of the patient:\"\n",
    "                \"\\n\\nSkin Color and Condition:\"\n",
    "                \"\\n1. Pale Skin: Indicate if the skin appears pale, which may suggest anemia, shock, or lack of oxygen.\"\n",
    "                \"\\n2. Yellowish Skin (Jaundice): Look for yellowish tint in the skin, possibly indicating liver problems or bile duct obstruction.\"\n",
    "                \"\\n3. Blue Skin or Lips (Cyanosis): Check for blue discoloration of the skin or lips, indicating poor oxygenation, possibly due to respiratory or cardiac issues.\"\n",
    "                \"\\n4. Redness: Identify any redness, which could be a sign of infection, inflammation, or allergic reaction.\"\n",
    "                \"\\n5. Rashes or Hives: Detect the presence of rashes or hives, suggesting allergic reactions, infections, or skin conditions like eczema or psoriasis.\"\n",
    "                \"\\n6. Pimples, Pustules, or Pox: Look for pimples, pustules, or pox, which may indicate infections like chickenpox, measles, or acne.\"\n",
    "                \"\\n\\nEyes:\"\n",
    "                \"\\n1. Dark Circles: Identify dark circles under the eyes, which may suggest sleep deprivation, stress, or chronic fatigue.\"\n",
    "                \"\\n2. Yellowing (Scleral Icterus): Check for yellowing of the sclera, indicating jaundice, possibly due to liver issues.\"\n",
    "                \"\\n3. Red or Bloodshot Eyes: Look for redness or bloodshot eyes, which could be a sign of infection, allergy, or irritation.\"\n",
    "                \"\\n4. Drooping Eyelids (Ptosis): Identify drooping eyelids, which may indicate neurological problems or fatigue.\"\n",
    "                \"\\n\\nMouth and Lips:\"\n",
    "                \"\\n1. Blue Lips (Cyanosis): Detect blue discoloration of the lips, suggesting poor oxygenation.\"\n",
    "                \"\\n2. Swollen Lips: Look for swelling of the lips, which could indicate an allergic reaction or infection.\"\n",
    "                \"\\n3. Cracked or Dry Lips: Identify cracked or dry lips, which may indicate dehydration or vitamin deficiencies.\"\n",
    "                \"\\n\\nNeck region:\"\n",
    "                \"\\n1. Swollen Glands: Identify any swollen glands, indicating possible infection or immune response.\"\n",
    "                \"\\n2. Visible Thyroid Enlargement (Goiter): Look for visible thyroid enlargement, suggesting thyroid disorders.\"\n",
    "            ),\n",
    "        },\n",
    "        {\n",
    "            \"type\": \"image_url\", \"image_url\": file_path\n",
    "        }\n",
    "    ]\n",
    ")\n",
    "\n",
    "# Invoke the model with the message\n",
    "result = llm.invoke([message])\n",
    "\n",
    "# Print the result\n",
    "print(result)"
   ]
  },
  {
   "cell_type": "code",
   "execution_count": 10,
   "metadata": {},
   "outputs": [
    {
     "data": {
      "text/plain": [
       "\" **Skin Color and Condition:**\\n1. Pale Skin: The patient's skin appears slightly pale, which could indicate anemia, shock, or lack of oxygen.\\n2. Yellowish Skin (Jaundice): No signs of yellowing are observed in the skin.\\n3. Blue Skin or Lips (Cyanosis): No blue discoloration is visible on the skin or lips.\\n4. Redness: There is significant redness on the cheeks and nose, which may suggest a condition like rosacea.\\n5. Rashes or Hives: No rashes or hives are visible on the face.\\n6. Pimples, Pustules, or Pox: No pimples, pustules, or pox are observed.\\n\\n**Eyes:**\\n1. Dark Circles: There are dark circles under the eyes, suggesting sleep deprivation, stress, or chronic fatigue.\\n2. Yellowing (Scleral Icterus): No yellowing is observed in the sclera.\\n3. Red or Bloodshot Eyes: The eyes appear slightly red or bloodshot, which could indicate an infection, allergy, or irritation.\\n4. Drooping Eyelids (Ptosis): The eyelids appear slightly droopy, which may be due to fatigue or neurological issues.\\n\\n**Mouth and Lips:**\\n1. Blue Lips (Cyanosis): The lips appear slightly blue, indicating poor oxygenation.\\n2. Swollen Lips: There is no swelling observed on the lips.\\n3. Cracked or Dry Lips: The lips appear dry, which may indicate dehydration or vitamin deficiencies.\\n\\n**Neck region:**\\n1. Swollen Glands: No swollen glands are visible in the neck region.\\n2. Visible Thyroid Enlargement (Goiter): The thyroid gland is not visibly enlarged.\""
      ]
     },
     "execution_count": 10,
     "metadata": {},
     "output_type": "execute_result"
    }
   ],
   "source": [
    "result.content"
   ]
  },
  {
   "cell_type": "code",
   "execution_count": 11,
   "metadata": {},
   "outputs": [
    {
     "data": {
      "text/markdown": [
       " **Skin Color and Condition:**\n",
       "1. Pale Skin: The patient's skin appears slightly pale, which could indicate anemia, shock, or lack of oxygen.\n",
       "2. Yellowish Skin (Jaundice): No signs of yellowing are observed in the skin.\n",
       "3. Blue Skin or Lips (Cyanosis): No blue discoloration is visible on the skin or lips.\n",
       "4. Redness: There is significant redness on the cheeks and nose, which may suggest a condition like rosacea.\n",
       "5. Rashes or Hives: No rashes or hives are visible on the face.\n",
       "6. Pimples, Pustules, or Pox: No pimples, pustules, or pox are observed.\n",
       "\n",
       "**Eyes:**\n",
       "1. Dark Circles: There are dark circles under the eyes, suggesting sleep deprivation, stress, or chronic fatigue.\n",
       "2. Yellowing (Scleral Icterus): No yellowing is observed in the sclera.\n",
       "3. Red or Bloodshot Eyes: The eyes appear slightly red or bloodshot, which could indicate an infection, allergy, or irritation.\n",
       "4. Drooping Eyelids (Ptosis): The eyelids appear slightly droopy, which may be due to fatigue or neurological issues.\n",
       "\n",
       "**Mouth and Lips:**\n",
       "1. Blue Lips (Cyanosis): The lips appear slightly blue, indicating poor oxygenation.\n",
       "2. Swollen Lips: There is no swelling observed on the lips.\n",
       "3. Cracked or Dry Lips: The lips appear dry, which may indicate dehydration or vitamin deficiencies.\n",
       "\n",
       "**Neck region:**\n",
       "1. Swollen Glands: No swollen glands are visible in the neck region.\n",
       "2. Visible Thyroid Enlargement (Goiter): The thyroid gland is not visibly enlarged."
      ],
      "text/plain": [
       "<IPython.core.display.Markdown object>"
      ]
     },
     "metadata": {},
     "output_type": "display_data"
    }
   ],
   "source": [
    "from IPython.display import Markdown, display\n",
    "\n",
    "display(Markdown(result.content))"
   ]
  },
  {
   "cell_type": "code",
   "execution_count": null,
   "metadata": {},
   "outputs": [],
   "source": []
  }
 ],
 "metadata": {
  "kernelspec": {
   "display_name": "Python 3",
   "language": "python",
   "name": "python3"
  },
  "language_info": {
   "codemirror_mode": {
    "name": "ipython",
    "version": 3
   },
   "file_extension": ".py",
   "mimetype": "text/x-python",
   "name": "python",
   "nbconvert_exporter": "python",
   "pygments_lexer": "ipython3",
   "version": "3.12.3"
  }
 },
 "nbformat": 4,
 "nbformat_minor": 2
}
