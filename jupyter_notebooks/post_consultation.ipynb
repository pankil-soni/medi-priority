{
 "cells": [
  {
   "cell_type": "code",
   "execution_count": 1,
   "metadata": {},
   "outputs": [
    {
     "name": "stderr",
     "output_type": "stream",
     "text": [
      "c:\\Python312\\Lib\\site-packages\\tqdm\\auto.py:21: TqdmWarning: IProgress not found. Please update jupyter and ipywidgets. See https://ipywidgets.readthedocs.io/en/stable/user_install.html\n",
      "  from .autonotebook import tqdm as notebook_tqdm\n"
     ]
    }
   ],
   "source": [
    "from langchain_google_genai import ChatGoogleGenerativeAI\n",
    "import os"
   ]
  },
  {
   "cell_type": "code",
   "execution_count": 3,
   "metadata": {},
   "outputs": [],
   "source": [
    "os.environ[\"GOOGLE_API_KEY\"] = \"\"\n",
    "\n",
    "llm = ChatGoogleGenerativeAI(model = \"gemini-pro\")"
   ]
  },
  {
   "cell_type": "code",
   "execution_count": 4,
   "metadata": {},
   "outputs": [],
   "source": [
    "from crewai import Crew,Agent,Task"
   ]
  },
  {
   "cell_type": "code",
   "execution_count": 5,
   "metadata": {},
   "outputs": [],
   "source": [
    "conversation = \"\"\"\n",
    "Hi Sneh, how are you feeling today?\n",
    "\n",
    "Hi, Doctor. I still have a high fever, cold, and cough. It's been like this for the past two days.\n",
    "\n",
    "I see. Based on the symptoms you've described—high fever, cold, and cough—it sounds like you might have a viral infection, such as the flu or a common cold. These infections are quite common and usually resolve on their own with proper rest and medication. However, it’s important to monitor the fever and ensure it doesn’t get too high.\n",
    "\n",
    "That makes sense. What can I do to feel better?\n",
    "\n",
    "Continue taking Paracetamol for the fever. It's good to hear that it has been effective for you. I'll prescribe a few more medications to help with your symptoms. Take Paracetamol 500mg every 6 hours as needed for fever, Cetirizine 10mg before bed for your cold symptoms, and Guaifenesin 200mg after breakfast and after dinner for the cough.\n",
    "\n",
    "Make sure to drink plenty of fluids and get plenty of rest.\n",
    "\n",
    "Got it. How long should I continue taking these medications?\n",
    "\n",
    "Take the medications for the next three days. If your symptoms persist or worsen, come back sooner. Otherwise, I would like you to come back for a follow-up check-up in five days to make sure you are recovering well.\n",
    "\n",
    "Okay, I will do that. Thank you, Doctor.\n",
    "\n",
    "You're welcome, Sneh. Take care and get well soon. Don't hesitate to reach out if you have any concerns before your follow-up.\n",
    "\"\"\""
   ]
  },
  {
   "cell_type": "code",
   "execution_count": 7,
   "metadata": {},
   "outputs": [],
   "source": [
    "general_information = \"Patient Name: Sneh Age: 20 Symptoms: - High fever (99 degrees Fahrenheit) - Cold - Cough Pain Assessment: None provided Medication: Paracetamol, effective for a few hours Symptom Duration: 2 days Additional Information: None\""
   ]
  },
  {
   "cell_type": "code",
   "execution_count": 23,
   "metadata": {},
   "outputs": [],
   "source": [
    "from crewai import Crew, Agent, Task\n",
    "\n",
    "\n",
    "llm_agent = Agent(\n",
    "    role=\"Patient Support Agent\",\n",
    "    goal=\"To provide post-medical consultation support to patients.\",\n",
    "    backstory=\"Trained to assist patients in managing their health after medical consultations.\",\n",
    "    llm=llm,\n",
    "    tools=[], \n",
    "    allow_delegation=False,\n",
    "    verbose=True\n",
    ")\n",
    "\n",
    "# Define the task for the LLM agent\n",
    "support_task = Task(\n",
    "    description=(\n",
    "        \"Here is patient general information: {general_information}\\n\"\n",
    "        \"Here is the conversation between the patient and the doctor: {conversation}\\n\\n\"\n",
    "        \"Provide recommendations for recovery, medication details, and schedule a follow-up check-up based on the patient details and conversation between patient and doctor.\"\n",
    "        \"After you get the necessary information parse it in json format where data should be in plain text.\"\n",
    "        \"Only return the json data with no additional text\"\n",
    "    ),\n",
    "    expected_output=\"Structured advice for the patient including recovery recommendations, medication details, and follow-up date.\",\n",
    "    agent=llm_agent\n",
    ")\n",
    "\n"
   ]
  },
  {
   "cell_type": "code",
   "execution_count": 24,
   "metadata": {},
   "outputs": [
    {
     "name": "stderr",
     "output_type": "stream",
     "text": [
      "2024-06-26 18:10:14,324 - 11752 - __init__.py-__init__:518 - WARNING: Overriding of current TracerProvider is not allowed\n"
     ]
    }
   ],
   "source": [
    "crew = Crew(agents=[llm_agent], tasks=[support_task],verbose=True)\n",
    "inputs = {\"general_information\": general_information, \"conversation\": conversation}"
   ]
  },
  {
   "cell_type": "code",
   "execution_count": 25,
   "metadata": {},
   "outputs": [
    {
     "name": "stdout",
     "output_type": "stream",
     "text": [
      "\u001b[1m\u001b[95m [2024-06-26 18:10:15][DEBUG]: == Working Agent: Patient Support Agent\u001b[00m\n",
      "\u001b[1m\u001b[95m [2024-06-26 18:10:15][INFO]: == Starting Task: Here is patient general information: Patient Name: Sneh Age: 20 Symptoms: - High fever (99 degrees Fahrenheit) - Cold - Cough Pain Assessment: None provided Medication: Paracetamol, effective for a few hours Symptom Duration: 2 days Additional Information: None\n",
      "Here is the conversation between the patient and the doctor: \n",
      "Hi Sneh, how are you feeling today?\n",
      "\n",
      "Hi, Doctor. I still have a high fever, cold, and cough. It's been like this for the past two days.\n",
      "\n",
      "I see. Based on the symptoms you've described—high fever, cold, and cough—it sounds like you might have a viral infection, such as the flu or a common cold. These infections are quite common and usually resolve on their own with proper rest and medication. However, it’s important to monitor the fever and ensure it doesn’t get too high.\n",
      "\n",
      "That makes sense. What can I do to feel better?\n",
      "\n",
      "Continue taking Paracetamol for the fever. It's good to hear that it has been effective for you. I'll prescribe a few more medications to help with your symptoms. Take Paracetamol 500mg every 6 hours as needed for fever, Cetirizine 10mg before bed for your cold symptoms, and Guaifenesin 200mg after breakfast and after dinner for the cough.\n",
      "\n",
      "Make sure to drink plenty of fluids and get plenty of rest.\n",
      "\n",
      "Got it. How long should I continue taking these medications?\n",
      "\n",
      "Take the medications for the next three days. If your symptoms persist or worsen, come back sooner. Otherwise, I would like you to come back for a follow-up check-up in five days to make sure you are recovering well.\n",
      "\n",
      "Okay, I will do that. Thank you, Doctor.\n",
      "\n",
      "You're welcome, Sneh. Take care and get well soon. Don't hesitate to reach out if you have any concerns before your follow-up.\n",
      "\n",
      "\n",
      "Provide recommendations for recovery, medication details, and schedule a follow-up check-up based on the patient details and conversation between patient and doctor.After you get the necessary information parse it in json format where data should be in plain text.Only return the json data with no additional text\u001b[00m\n",
      "\n",
      "\n",
      "\u001b[1m> Entering new CrewAgentExecutor chain...\u001b[0m\n",
      "\u001b[32;1m\u001b[1;3mFinal Answer:\n",
      "```json\n",
      "{\n",
      "  \"recovery_recommendations\": [\n",
      "    \"Get plenty of rest.\",\n",
      "    \"Drink plenty of fluids.\"\n",
      "  ],\n",
      "  \"medication_details\": [\n",
      "    {\n",
      "      \"name\": \"Paracetamol\",\n",
      "      \"dosage\": \"500mg\",\n",
      "      \"frequency\": \"every 6 hours as needed for fever\"\n",
      "    },\n",
      "    {\n",
      "      \"name\": \"Cetirizine\",\n",
      "      \"dosage\": \"10mg\",\n",
      "      \"frequency\": \"before bed for cold symptoms\"\n",
      "    },\n",
      "    {\n",
      "      \"name\": \"Guaifenesin\",\n",
      "      \"dosage\": \"200mg\",\n",
      "      \"frequency\": \"after breakfast and after dinner for cough\"\n",
      "    }\n",
      "  ],\n",
      "  \"follow_up_details\": {\n",
      "    \"date\": \"in five days\",\n",
      "    \"purpose\": \"to make sure you are recovering well\"\n",
      "  }\n",
      "}\n",
      "```\u001b[0m\n",
      "\n",
      "\u001b[1m> Finished chain.\u001b[0m\n",
      "\u001b[1m\u001b[92m [2024-06-26 18:10:19][DEBUG]: == [Patient Support Agent] Task output: ```json\n",
      "{\n",
      "  \"recovery_recommendations\": [\n",
      "    \"Get plenty of rest.\",\n",
      "    \"Drink plenty of fluids.\"\n",
      "  ],\n",
      "  \"medication_details\": [\n",
      "    {\n",
      "      \"name\": \"Paracetamol\",\n",
      "      \"dosage\": \"500mg\",\n",
      "      \"frequency\": \"every 6 hours as needed for fever\"\n",
      "    },\n",
      "    {\n",
      "      \"name\": \"Cetirizine\",\n",
      "      \"dosage\": \"10mg\",\n",
      "      \"frequency\": \"before bed for cold symptoms\"\n",
      "    },\n",
      "    {\n",
      "      \"name\": \"Guaifenesin\",\n",
      "      \"dosage\": \"200mg\",\n",
      "      \"frequency\": \"after breakfast and after dinner for cough\"\n",
      "    }\n",
      "  ],\n",
      "  \"follow_up_details\": {\n",
      "    \"date\": \"in five days\",\n",
      "    \"purpose\": \"to make sure you are recovering well\"\n",
      "  }\n",
      "}\n",
      "```\n",
      "\n",
      "\u001b[00m\n"
     ]
    }
   ],
   "source": [
    "result = crew.kickoff(inputs)"
   ]
  },
  {
   "cell_type": "code",
   "execution_count": 26,
   "metadata": {},
   "outputs": [
    {
     "name": "stdout",
     "output_type": "stream",
     "text": [
      "```json\n",
      "{\n",
      "  \"recovery_recommendations\": [\n",
      "    \"Get plenty of rest.\",\n",
      "    \"Drink plenty of fluids.\"\n",
      "  ],\n",
      "  \"medication_details\": [\n",
      "    {\n",
      "      \"name\": \"Paracetamol\",\n",
      "      \"dosage\": \"500mg\",\n",
      "      \"frequency\": \"every 6 hours as needed for fever\"\n",
      "    },\n",
      "    {\n",
      "      \"name\": \"Cetirizine\",\n",
      "      \"dosage\": \"10mg\",\n",
      "      \"frequency\": \"before bed for cold symptoms\"\n",
      "    },\n",
      "    {\n",
      "      \"name\": \"Guaifenesin\",\n",
      "      \"dosage\": \"200mg\",\n",
      "      \"frequency\": \"after breakfast and after dinner for cough\"\n",
      "    }\n",
      "  ],\n",
      "  \"follow_up_details\": {\n",
      "    \"date\": \"in five days\",\n",
      "    \"purpose\": \"to make sure you are recovering well\"\n",
      "  }\n",
      "}\n",
      "```\n"
     ]
    }
   ],
   "source": [
    "print(result)"
   ]
  },
  {
   "cell_type": "code",
   "execution_count": null,
   "metadata": {},
   "outputs": [],
   "source": []
  }
 ],
 "metadata": {
  "kernelspec": {
   "display_name": "Python 3",
   "language": "python",
   "name": "python3"
  },
  "language_info": {
   "codemirror_mode": {
    "name": "ipython",
    "version": 3
   },
   "file_extension": ".py",
   "mimetype": "text/x-python",
   "name": "python",
   "nbconvert_exporter": "python",
   "pygments_lexer": "ipython3",
   "version": "3.12.3"
  }
 },
 "nbformat": 4,
 "nbformat_minor": 2
}
