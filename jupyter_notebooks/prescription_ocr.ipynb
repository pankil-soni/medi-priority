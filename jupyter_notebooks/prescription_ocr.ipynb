{
 "cells": [
  {
   "cell_type": "code",
   "execution_count": 1,
   "metadata": {},
   "outputs": [
    {
     "name": "stderr",
     "output_type": "stream",
     "text": [
      "c:\\Python312\\Lib\\site-packages\\tqdm\\auto.py:21: TqdmWarning: IProgress not found. Please update jupyter and ipywidgets. See https://ipywidgets.readthedocs.io/en/stable/user_install.html\n",
      "  from .autonotebook import tqdm as notebook_tqdm\n"
     ]
    }
   ],
   "source": [
    "import google.generativeai as genai\n",
    "from google.generativeai.types import ContentType\n",
    "from PIL import Image\n",
    "from IPython.display import Markdown\n",
    "import time\n",
    "import cv2"
   ]
  },
  {
   "cell_type": "code",
   "execution_count": 2,
   "metadata": {},
   "outputs": [],
   "source": [
    "GOOGLE_API_KEY = 'REMOVED'\n",
    "genai.configure(api_key=GOOGLE_API_KEY)"
   ]
  },
  {
   "cell_type": "code",
   "execution_count": 12,
   "metadata": {},
   "outputs": [],
   "source": [
    "from PIL import Image\n",
    "\n",
    "def convert_webp_to_jpg(input_path, output_path):\n",
    "    # Open the WebP image\n",
    "    with Image.open(input_path) as img:\n",
    "        # Convert and save the image as JPEG\n",
    "        img.convert(\"RGB\").save(output_path, \"JPEG\")\n",
    "        \n",
    "        \n",
    "convert_webp_to_jpg('image1.webp', 'image1.jpeg')"
   ]
  },
  {
   "cell_type": "code",
   "execution_count": 20,
   "metadata": {},
   "outputs": [
    {
     "name": "stdout",
     "output_type": "stream",
     "text": [
      "Converted image1.webp to output_image.png\n"
     ]
    }
   ],
   "source": [
    "from PIL import Image\n",
    "\n",
    "def convert_webp_to_png(input_path, output_path):\n",
    "    # Open the WebP image\n",
    "    with Image.open(input_path) as img:\n",
    "        # Save the image as PNG\n",
    "        img.save(output_path, \"PNG\")\n",
    "\n",
    "# Example usage\n",
    "input_webp = \"image1.webp\"\n",
    "output_png = \"output_image.png\"\n",
    "convert_webp_to_png(input_webp, output_png)\n",
    "print(f\"Converted {input_webp} to {output_png}\")\n"
   ]
  },
  {
   "cell_type": "code",
   "execution_count": 61,
   "metadata": {},
   "outputs": [],
   "source": [
    "image = genai.upload_file('output_image.png')"
   ]
  },
  {
   "cell_type": "code",
   "execution_count": 62,
   "metadata": {},
   "outputs": [
    {
     "data": {
      "text/plain": [
       "<google.generativeai.types.file_types.File at 0x17ae8f9c320>"
      ]
     },
     "execution_count": 62,
     "metadata": {},
     "output_type": "execute_result"
    }
   ],
   "source": [
    "image"
   ]
  },
  {
   "cell_type": "code",
   "execution_count": 67,
   "metadata": {},
   "outputs": [],
   "source": [
    "model = genai.GenerativeModel(model_name=\"models/gemini-1.5-flash\")\n",
    "\n",
    "prompt =f\"\"\"\n",
    "This image contains prescrition of a doctor, please extract the following information:\n",
    "After you get the necessary information parse it in json format and return it.\n",
    "Only return the json data with no additional text\n",
    "keys of the json should be: 'medication_details'\n",
    "medication_details should be a list of dictionaries.\n",
    "some commong abrevations in the prescription are:\n",
    "1. OD: Once a day\n",
    "2. BD: Twice a day\n",
    "3. TDS: Thrice a day\n",
    "4. QID: Four times a day\n",
    "5. HS: At bedtime\n",
    "6. PRN: As needed\n",
    "7. AC: Before meals\n",
    "9. D : day\n",
    "meidcation_details should have keys: 'name': string, 'dose':string, frequency_days:number, 'timings':list of strings\"\"\"\n",
    "\n",
    "safe = [\n",
    "    {\n",
    "        \"category\": \"HARM_CATEGORY_DANGEROUS\",\n",
    "        \"threshold\": \"BLOCK_NONE\",\n",
    "    },\n",
    "    {\n",
    "        \"category\": \"HARM_CATEGORY_HARASSMENT\",\n",
    "        \"threshold\": \"BLOCK_NONE\",\n",
    "    },\n",
    "    {\n",
    "        \"category\": \"HARM_CATEGORY_HATE_SPEECH\",\n",
    "        \"threshold\": \"BLOCK_NONE\",\n",
    "    },\n",
    "    {\n",
    "        \"category\": \"HARM_CATEGORY_SEXUALLY_EXPLICIT\",\n",
    "        \"threshold\": \"BLOCK_NONE\",\n",
    "    },\n",
    "    {\n",
    "        \"category\": \"HARM_CATEGORY_DANGEROUS_CONTENT\",\n",
    "        \"threshold\": \"BLOCK_NONE\",\n",
    "    },\n",
    "]\n",
    "    \n",
    "response = model.generate_content([image, prompt],safety_settings=safe)\n",
    "\n",
    "# print(response.text)"
   ]
  },
  {
   "cell_type": "code",
   "execution_count": 68,
   "metadata": {},
   "outputs": [
    {
     "name": "stdout",
     "output_type": "stream",
     "text": [
      "```json\n",
      "{\n",
      "\"medication_details\": [\n",
      "{\n",
      "\"name\": \"CALPOL\",\n",
      "\"dose\": \"4 ML\",\n",
      "\"frequency_days\": 3,\n",
      "\"timings\": [\n",
      "\"Q6H\"\n",
      "]\n",
      "},\n",
      "{\n",
      "\"name\": \"DELCON\",\n",
      "\"dose\": \"3 ML\",\n",
      "\"frequency_days\": 5,\n",
      "\"timings\": [\n",
      "\"TDS\"\n",
      "]\n",
      "},\n",
      "{\n",
      "\"name\": \"LEVOUIN\",\n",
      "\"dose\": \"3 ML\",\n",
      "\"frequency_days\": 5,\n",
      "\"timings\": [\n",
      "\"TDS\"\n",
      "]\n",
      "},\n",
      "{\n",
      "\"name\": \"MEFTAL-P\",\n",
      "\"dose\": \"3 ML\",\n",
      "\"frequency_days\": null,\n",
      "\"timings\": [\n",
      "\"SOS\"\n",
      "]\n",
      "}\n",
      "]\n",
      "}\n",
      "```\n"
     ]
    }
   ],
   "source": [
    "print(response.text)"
   ]
  },
  {
   "cell_type": "code",
   "execution_count": 72,
   "metadata": {},
   "outputs": [],
   "source": [
    "def get_medicine_details_from_persription(image_path):\n",
    "    convert_webp_to_png(image_path, 'output_image.png')\n",
    "    image = genai.upload_file('output_image.png')\n",
    "    model = genai.GenerativeModel(model_name=\"models/gemini-1.5-flash\")\n",
    "    prompt =f\"\"\"\n",
    "    This image contains prescrition of a doctor, please extract the following information:\n",
    "    After you get the necessary information parse it in json format and return it.\n",
    "    Only return the json data with no additional text\n",
    "    keys of the json should be: 'medication_details'\n",
    "    medication_details should be a list of dictionaries.\n",
    "    some commong abrevations in the prescription are:\n",
    "    1. OD: Once a day\n",
    "    2. BD: Twice a day\n",
    "    3. TDS: Thrice a day\n",
    "    4. QID: Four times a day\n",
    "    5. HS: At bedtime\n",
    "    6. PRN: As needed\n",
    "    7. AC: Before meals\n",
    "    9. D : day\n",
    "    10 QNH: every n hours a day\n",
    "    meidcation_details should have keys: 'name': string, 'dose':string, frequency_days:number, 'timings':list of strings\"\"\"\n",
    "    safe = [\n",
    "        {\n",
    "            \"category\": \"HARM_CATEGORY_DANGEROUS\",\n",
    "            \"threshold\": \"BLOCK_NONE\",\n",
    "        },\n",
    "        {\n",
    "            \"category\": \"HARM_CATEGORY_HARASSMENT\",\n",
    "            \"threshold\": \"BLOCK_NONE\",\n",
    "        },\n",
    "        {\n",
    "            \"category\": \"HARM_CATEGORY_HATE_SPEECH\",\n",
    "            \"threshold\": \"BLOCK_NONE\",\n",
    "        },\n",
    "        {\n",
    "            \"category\": \"HARM_CATEGORY_SEXUALLY_EXPLICIT\",\n",
    "            \"threshold\": \"BLOCK_NONE\",\n",
    "        },\n",
    "        {\n",
    "            \"category\": \"HARM_CATEGORY_DANGEROUS_CONTENT\",\n",
    "            \"threshold\": \"BLOCK_NONE\",\n",
    "        },\n",
    "    ]\n",
    "    response = model.generate_content([image, prompt],safety_settings=safe)\n",
    "    return response.text"
   ]
  },
  {
   "cell_type": "code",
   "execution_count": 73,
   "metadata": {},
   "outputs": [
    {
     "name": "stdout",
     "output_type": "stream",
     "text": [
      "```json\n",
      "{\n",
      "\"medication_details\": [\n",
      "{\n",
      "\"name\": \"CALPOL\",\n",
      "\"dose\": \"4 ML\",\n",
      "\"frequency_days\": 3,\n",
      "\"timings\": [\n",
      "\"Q6H\"\n",
      "]\n",
      "},\n",
      "{\n",
      "\"name\": \"DELCON\",\n",
      "\"dose\": \"3 ML\",\n",
      "\"frequency_days\": 5,\n",
      "\"timings\": [\n",
      "\"TDS\"\n",
      "]\n",
      "},\n",
      "{\n",
      "\"name\": \"LEVOUIN\",\n",
      "\"dose\": \"3 ML\",\n",
      "\"frequency_days\": 5,\n",
      "\"timings\": [\n",
      "\"TDS\"\n",
      "]\n",
      "},\n",
      "{\n",
      "\"name\": \"MEFTAL-P\",\n",
      "\"dose\": \"3 ML\",\n",
      "\"frequency_days\": null,\n",
      "\"timings\": [\n",
      "\"SOS\"\n",
      "]\n",
      "}\n",
      "]\n",
      "}\n",
      "```\n"
     ]
    }
   ],
   "source": [
    "print(get_medicine_details_from_persription('image1.webp'))"
   ]
  },
  {
   "cell_type": "code",
   "execution_count": null,
   "metadata": {},
   "outputs": [],
   "source": []
  }
 ],
 "metadata": {
  "kernelspec": {
   "display_name": "Python 3",
   "language": "python",
   "name": "python3"
  },
  "language_info": {
   "codemirror_mode": {
    "name": "ipython",
    "version": 3
   },
   "file_extension": ".py",
   "mimetype": "text/x-python",
   "name": "python",
   "nbconvert_exporter": "python",
   "pygments_lexer": "ipython3",
   "version": "3.12.3"
  }
 },
 "nbformat": 4,
 "nbformat_minor": 2
}
