{
 "cells": [
  {
   "cell_type": "code",
   "execution_count": 10,
   "metadata": {},
   "outputs": [],
   "source": [
    "from langchain_google_genai import ChatGoogleGenerativeAI"
   ]
  },
  {
   "cell_type": "code",
   "execution_count": 11,
   "metadata": {},
   "outputs": [],
   "source": [
    "import os\n",
    "\n",
    "os.environ[\"GOOGLE_API_KEY\"] = \"REMOVED\"\n",
    "llm = ChatGoogleGenerativeAI(model = \"gemini-1.5-flash\",temperature=0)"
   ]
  },
  {
   "cell_type": "code",
   "execution_count": 12,
   "metadata": {},
   "outputs": [],
   "source": [
    "from crewai import Agent, Task, Crew"
   ]
  },
  {
   "cell_type": "code",
   "execution_count": 42,
   "metadata": {},
   "outputs": [],
   "source": [
    "remidie = Agent(\n",
    "    role = \"To give recommendation to a patient based on the symptoms on how to treat the symptoms\",\n",
    "    goal = \"To give recommendation to a patient based on the symptoms on how to treat the symptoms for temporary treatment before the patient sees a doctor.\",\n",
    "    backstory = \"You are a medical assistant and your task is to give temporary treatment recommendation in plain text to a patient based on the symptoms before the patient sees a doctor.\",\n",
    "    llm = llm,\n",
    "    allow_delegation  = False,\n",
    "    verbose = True\n",
    ")\n",
    "\n",
    "remidie_task = Task(\n",
    "    description = (\n",
    "       \"1. You have patients general information {general_information}.\\n\"\n",
    "       \"2. You have the patients visual information {visual_information}.\\n\"\n",
    "       \"3. Based on the information that you have, you need to recommend temporary treatment to the patient before the patient sees a doctor.\\n\"\n",
    "       \"4. You need to provide at least {n} recommendations to the patient.\\n\"\n",
    "       \"5. Give the all output in plain text format only and not in markdown\"\n",
    "       \"6. The output should be a recommendations each separated by a new line.\"\n",
    "    ),\n",
    "    expected_output = \"temporary recommendations to a patient based on the symptoms in plain text format with each recommendation in a new line.\",\n",
    "    agent = remidie,\n",
    ")"
   ]
  },
  {
   "cell_type": "code",
   "execution_count": 36,
   "metadata": {},
   "outputs": [],
   "source": [
    "vision_information = \"\"\"\n",
    "Skin Color and Condition:\n",
    "\n",
    "Pale Skin: The patient's skin appears slightly pale, which could indicate anemia, shock, or lack of oxygen.\n",
    "Yellowish Skin (Jaundice): No signs of yellowing are observed in the skin.\n",
    "Blue Skin or Lips (Cyanosis): No blue discoloration is visible on the skin or lips.\n",
    "Redness: There is significant redness on the cheeks and nose, which may suggest a condition like rosacea.\n",
    "Rashes or Hives: No rashes or hives are visible on the face.\n",
    "Pimples, Pustules, or Pox: No pimples, pustules, or pox are observed.\n",
    "Eyes:\n",
    "\n",
    "Dark Circles: There are dark circles under the eyes, suggesting sleep deprivation, stress, or chronic fatigue.\n",
    "Yellowing (Scleral Icterus): No yellowing is observed in the sclera.\n",
    "Red or Bloodshot Eyes: The eyes appear slightly red or bloodshot, which could indicate an infection, allergy, or irritation.\n",
    "Drooping Eyelids (Ptosis): The eyelids appear slightly droopy, which may be due to fatigue or neurological issues.\n",
    "Mouth and Lips:\n",
    "\n",
    "Blue Lips (Cyanosis): The lips appear slightly blue, indicating poor oxygenation.\n",
    "Swollen Lips: There is no swelling observed on the lips.\n",
    "Cracked or Dry Lips: The lips appear dry, which may indicate dehydration or vitamin deficiencies.\n",
    "Neck region:\n",
    "\n",
    "Swollen Glands: No swollen glands are visible in the neck region.\n",
    "Visible Thyroid Enlargement (Goiter): The thyroid gland is not visibly enlarged.\n",
    "\"\"\""
   ]
  },
  {
   "cell_type": "code",
   "execution_count": 37,
   "metadata": {},
   "outputs": [],
   "source": [
    "general_information = \"Patient Name: Sneh Age: 20 Symptoms: - High fever (103 degrees Fahrenheit) - Cold - Cough Pain Assessment: None provided Medication: Paracetamol, effective for a few hours Symptom Duration: 2 days Additional Information: None\""
   ]
  },
  {
   "cell_type": "code",
   "execution_count": 43,
   "metadata": {},
   "outputs": [],
   "source": [
    "n = 5\n",
    "inputs = {\n",
    "    \"general_information\": general_information,\n",
    "    \"visual_information\": vision_information,\n",
    "    \"n\": n\n",
    "}"
   ]
  },
  {
   "cell_type": "code",
   "execution_count": 44,
   "metadata": {},
   "outputs": [
    {
     "name": "stderr",
     "output_type": "stream",
     "text": [
      "2024-06-29 11:54:41,338 - 23116 - __init__.py-__init__:518 - WARNING: Overriding of current TracerProvider is not allowed\n"
     ]
    }
   ],
   "source": [
    "crew = Crew(agents = [remidie], tasks= [remidie_task], verbose=True)"
   ]
  },
  {
   "cell_type": "code",
   "execution_count": 45,
   "metadata": {},
   "outputs": [
    {
     "name": "stdout",
     "output_type": "stream",
     "text": [
      "\u001b[1m\u001b[95m [2024-06-29 11:54:41][DEBUG]: == Working Agent: To give recommendation to a patient based on the symptoms on how to treat the symptoms\u001b[00m\n",
      "\u001b[1m\u001b[95m [2024-06-29 11:54:41][INFO]: == Starting Task: 1. You have patients general information Patient Name: Sneh Age: 20 Symptoms: - High fever (103 degrees Fahrenheit) - Cold - Cough Pain Assessment: None provided Medication: Paracetamol, effective for a few hours Symptom Duration: 2 days Additional Information: None.\n",
      "2. You have the patients visual information \n",
      "Skin Color and Condition:\n",
      "\n",
      "Pale Skin: The patient's skin appears slightly pale, which could indicate anemia, shock, or lack of oxygen.\n",
      "Yellowish Skin (Jaundice): No signs of yellowing are observed in the skin.\n",
      "Blue Skin or Lips (Cyanosis): No blue discoloration is visible on the skin or lips.\n",
      "Redness: There is significant redness on the cheeks and nose, which may suggest a condition like rosacea.\n",
      "Rashes or Hives: No rashes or hives are visible on the face.\n",
      "Pimples, Pustules, or Pox: No pimples, pustules, or pox are observed.\n",
      "Eyes:\n",
      "\n",
      "Dark Circles: There are dark circles under the eyes, suggesting sleep deprivation, stress, or chronic fatigue.\n",
      "Yellowing (Scleral Icterus): No yellowing is observed in the sclera.\n",
      "Red or Bloodshot Eyes: The eyes appear slightly red or bloodshot, which could indicate an infection, allergy, or irritation.\n",
      "Drooping Eyelids (Ptosis): The eyelids appear slightly droopy, which may be due to fatigue or neurological issues.\n",
      "Mouth and Lips:\n",
      "\n",
      "Blue Lips (Cyanosis): The lips appear slightly blue, indicating poor oxygenation.\n",
      "Swollen Lips: There is no swelling observed on the lips.\n",
      "Cracked or Dry Lips: The lips appear dry, which may indicate dehydration or vitamin deficiencies.\n",
      "Neck region:\n",
      "\n",
      "Swollen Glands: No swollen glands are visible in the neck region.\n",
      "Visible Thyroid Enlargement (Goiter): The thyroid gland is not visibly enlarged.\n",
      ".\n",
      "3. Based on the information that you have, you need to recommend temporary treatment to the patient before the patient sees a doctor.\n",
      "4. You need to provide at least 5 recommendations to the patient.\n",
      "5. Give the all output in plain text format only and not in markdown6. The output should be a recommendations each separated by a new line.\u001b[00m\n",
      "\n",
      "\n",
      "\u001b[1m> Entering new CrewAgentExecutor chain...\u001b[0m\n",
      "\u001b[32;1m\u001b[1;3mThought: I now can give a great answer\n",
      "Final Answer: \n",
      "Get plenty of rest.\n",
      "Stay hydrated by drinking plenty of fluids, such as water, clear broth, or herbal tea.\n",
      "Take over-the-counter pain relievers, such as acetaminophen (Tylenol) or ibuprofen (Advil, Motrin), to help reduce fever and aches.\n",
      "Use a humidifier or take a hot shower to help relieve congestion.\n",
      "Avoid contact with others to prevent spreading the illness. \n",
      "\u001b[0m\n",
      "\n",
      "\u001b[1m> Finished chain.\u001b[0m\n",
      "\u001b[1m\u001b[92m [2024-06-29 11:54:44][DEBUG]: == [To give recommendation to a patient based on the symptoms on how to treat the symptoms] Task output: Get plenty of rest.\n",
      "Stay hydrated by drinking plenty of fluids, such as water, clear broth, or herbal tea.\n",
      "Take over-the-counter pain relievers, such as acetaminophen (Tylenol) or ibuprofen (Advil, Motrin), to help reduce fever and aches.\n",
      "Use a humidifier or take a hot shower to help relieve congestion.\n",
      "Avoid contact with others to prevent spreading the illness.\n",
      "\n",
      "\u001b[00m\n"
     ]
    }
   ],
   "source": [
    "result = crew.kickoff(inputs)"
   ]
  },
  {
   "cell_type": "code",
   "execution_count": 46,
   "metadata": {},
   "outputs": [
    {
     "name": "stdout",
     "output_type": "stream",
     "text": [
      "Get plenty of rest.\n",
      "Stay hydrated by drinking plenty of fluids, such as water, clear broth, or herbal tea.\n",
      "Take over-the-counter pain relievers, such as acetaminophen (Tylenol) or ibuprofen (Advil, Motrin), to help reduce fever and aches.\n",
      "Use a humidifier or take a hot shower to help relieve congestion.\n",
      "Avoid contact with others to prevent spreading the illness.\n"
     ]
    }
   ],
   "source": [
    "print(result)"
   ]
  },
  {
   "cell_type": "code",
   "execution_count": null,
   "metadata": {},
   "outputs": [],
   "source": []
  }
 ],
 "metadata": {
  "kernelspec": {
   "display_name": "Python 3",
   "language": "python",
   "name": "python3"
  },
  "language_info": {
   "codemirror_mode": {
    "name": "ipython",
    "version": 3
   },
   "file_extension": ".py",
   "mimetype": "text/x-python",
   "name": "python",
   "nbconvert_exporter": "python",
   "pygments_lexer": "ipython3",
   "version": "3.12.3"
  }
 },
 "nbformat": 4,
 "nbformat_minor": 2
}
