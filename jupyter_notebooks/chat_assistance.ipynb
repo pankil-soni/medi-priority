{
 "cells": [
  {
   "cell_type": "code",
   "execution_count": 1,
   "metadata": {},
   "outputs": [],
   "source": [
    "from langchain_google_genai import ChatGoogleGenerativeAI"
   ]
  },
  {
   "cell_type": "code",
   "execution_count": 2,
   "metadata": {},
   "outputs": [],
   "source": [
    "import os\n",
    "\n",
    "os.environ[\"GOOGLE_API_KEY\"] = \"\""
   ]
  },
  {
   "cell_type": "code",
   "execution_count": 3,
   "metadata": {},
   "outputs": [],
   "source": [
    "llm = ChatGoogleGenerativeAI(model = \"gemini-pro\")"
   ]
  },
  {
   "cell_type": "code",
   "execution_count": 5,
   "metadata": {},
   "outputs": [],
   "source": [
    "from crewai import Crew,Agent,Task"
   ]
  },
  {
   "cell_type": "code",
   "execution_count": 9,
   "metadata": {},
   "outputs": [],
   "source": [
    "from crewai import Crew, Agent, Task\n",
    "from crewai_tools import tool\n",
    "@tool(\"Request User Feedback\")\n",
    "def request_user_feedback(conversation: str) -> str:\n",
    "    \"\"\"This tool presents a text for conversation to the user and requests feedback.\n",
    "\n",
    "    Args:\n",
    "        conversation (str): The conversation text created by the agent.\n",
    "\n",
    "    Returns:\n",
    "        str: The feedback provided by the user.\n",
    "    \"\"\"\n",
    "    feedback = input(conversation)\n",
    "    return feedback\n",
    "\n",
    "humanizer = Agent(\n",
    "    role=\"Medical Assistant Chatbot\",\n",
    "    goal=\"To assist patients by asking them relevant questions about their symptoms and forming a detailed report for the doctor.\",\n",
    "    backstory=\"A friendly and empathetic virtual assistant designed to help patients communicate their symptoms effectively.\",\n",
    "    llm=llm,\n",
    "    tools=[request_user_feedback],\n",
    "    allow_delegation=False,\n",
    "    verbose=True\n",
    ")\n",
    "\n",
    "# Define the humanize task\n",
    "humanize = Task(\n",
    "    description=(\n",
    "        \"You have to follow each and every step to ensure that the patient's symptoms are accurately recorded and reported to the doctor.\"\n",
    "        \"1. Greet the patient and introduce yourself.\"\n",
    "        \"2. Ask for the patient's name and age.\"\n",
    "        \"3. Inquire about the main symptom the patient is experiencing.\"\n",
    "        \"4. Ask specific questions based on the reported symptom.\"\n",
    "        \"5. Assess the pain intensity and characteristics if applicable.\"\n",
    "        \"6. Inquire about any medication taken and its effects.\"\n",
    "        \"7. Determine the duration of the symptoms.\"\n",
    "        \"8. Ask for any additional relevant information.\"\n",
    "        \"9. Thank the patient and provide information on the next steps.\"\n",
    "    ),\n",
    "    expected_output=\"A detailed report containing the patient's symptoms, pain assessment, medication details, symptom duration, and any additional information.\",\n",
    "    agent=humanizer,\n",
    ")\n"
   ]
  },
  {
   "cell_type": "code",
   "execution_count": 10,
   "metadata": {},
   "outputs": [
    {
     "name": "stderr",
     "output_type": "stream",
     "text": [
      "2024-06-26 15:21:25,327 - 11500 - __init__.py-__init__:518 - WARNING: Overriding of current TracerProvider is not allowed\n"
     ]
    },
    {
     "name": "stdout",
     "output_type": "stream",
     "text": [
      "\u001b[1m\u001b[95m [2024-06-26 15:21:25][DEBUG]: == Working Agent: Medical Assistant Chatbot\u001b[00m\n",
      "\u001b[1m\u001b[95m [2024-06-26 15:21:25][INFO]: == Starting Task: You have to follow each and every step to ensure that the patient's symptoms are accurately recorded and reported to the doctor.1. Greet the patient and introduce yourself.2. Ask for the patient's name and age.3. Inquire about the main symptom the patient is experiencing.4. Ask specific questions based on the reported symptom.5. Assess the pain intensity and characteristics if applicable.6. Inquire about any medication taken and its effects.7. Determine the duration of the symptoms.8. Ask for any additional relevant information.9. Thank the patient and provide information on the next steps.\u001b[00m\n",
      "\n",
      "\n",
      "\u001b[1m> Entering new CrewAgentExecutor chain...\u001b[0m\n",
      "\u001b[32;1m\u001b[1;3mAction: Request User Feedback\n",
      "Action Input: {\"conversation\": \"Hello! I'm here to help you communicate your symptoms to the doctor. May I know your name and age?\"}\u001b[0m\u001b[95m \n",
      "\n",
      "My name is Sneh and I am 20 years old\n",
      "\u001b[00m\n",
      "\u001b[32;1m\u001b[1;3mThought:\n",
      "Action: Request User Feedback\n",
      "Action Input: {\"conversation\": \"Thank you, Sneh. What is the main symptom you are experiencing?\"}\u001b[0m\u001b[95m \n",
      "\n",
      "I am having high fever\n",
      "\u001b[00m\n",
      "\u001b[32;1m\u001b[1;3mThought:\n",
      "Action: Request User Feedback\n",
      "Action Input: {\"conversation\": \"I see. Are you experiencing any other symptoms along with the fever?\"}\u001b[0m\u001b[95m \n",
      "\n",
      "I also have cold and cough\n",
      "\u001b[00m\n",
      "\u001b[32;1m\u001b[1;3mThought:\n",
      "Action: Request User Feedback\n",
      "Action Input: {\"conversation\": \"I understand. How would you describe the intensity of your fever?\"}\u001b[0m\u001b[95m \n",
      "\n",
      "I have fever of 99 degree farhenite\n",
      "\u001b[00m\n",
      "\u001b[32;1m\u001b[1;3mThought:\n",
      "Action: Request User Feedback\n",
      "Action Input: {\"conversation\": \"Are you taking any medication for your symptoms? If so, what is it and how effective has it been?\"}\u001b[0m\u001b[95m \n",
      "\n",
      "I have taken paracetamol and it is affective for few hours before I get fever again\n",
      "\u001b[00m\n",
      "\u001b[32;1m\u001b[1;3mThought:\n",
      "Action: Request User Feedback\n",
      "Action Input: {\"conversation\": \"How long have you been experiencing these symptoms?\"}\u001b[0m\u001b[95m \n",
      "\n",
      "I have fever since two days\n",
      "\u001b[00m\n",
      "\u001b[32;1m\u001b[1;3mThought: I now know the final answer\n",
      "Final Answer: Patient Name: Sneh Age: 20 Symptoms: - High fever (99 degrees Fahrenheit) - Cold - Cough Pain Assessment: None provided Medication: Paracetamol, effective for a few hours Symptom Duration: 2 days Additional Information: None\u001b[0m\n",
      "\n",
      "\u001b[1m> Finished chain.\u001b[0m\n",
      "\u001b[1m\u001b[92m [2024-06-26 15:23:38][DEBUG]: == [Medical Assistant Chatbot] Task output: Patient Name: Sneh Age: 20 Symptoms: - High fever (99 degrees Fahrenheit) - Cold - Cough Pain Assessment: None provided Medication: Paracetamol, effective for a few hours Symptom Duration: 2 days Additional Information: None\n",
      "\n",
      "\u001b[00m\n"
     ]
    }
   ],
   "source": [
    "crew = Crew(agents=[humanizer], tasks=[humanize],verbose=2)\n",
    "result = crew.kickoff()"
   ]
  },
  {
   "cell_type": "code",
   "execution_count": 11,
   "metadata": {},
   "outputs": [
    {
     "name": "stdout",
     "output_type": "stream",
     "text": [
      "Patient Name: Sneh Age: 20 Symptoms: - High fever (99 degrees Fahrenheit) - Cold - Cough Pain Assessment: None provided Medication: Paracetamol, effective for a few hours Symptom Duration: 2 days Additional Information: None\n"
     ]
    }
   ],
   "source": [
    "print(result)"
   ]
  },
  {
   "cell_type": "code",
   "execution_count": null,
   "metadata": {},
   "outputs": [],
   "source": []
  }
 ],
 "metadata": {
  "kernelspec": {
   "display_name": "Python 3",
   "language": "python",
   "name": "python3"
  },
  "language_info": {
   "codemirror_mode": {
    "name": "ipython",
    "version": 3
   },
   "file_extension": ".py",
   "mimetype": "text/x-python",
   "name": "python",
   "nbconvert_exporter": "python",
   "pygments_lexer": "ipython3",
   "version": "3.12.3"
  }
 },
 "nbformat": 4,
 "nbformat_minor": 2
}
